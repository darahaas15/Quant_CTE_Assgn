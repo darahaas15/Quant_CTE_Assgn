{
 "cells": [
  {
   "cell_type": "code",
   "execution_count": 1,
   "metadata": {},
   "outputs": [],
   "source": [
    "import pandas as pd\n",
    "import numpy as np\n",
    "import datetime as dt\n",
    "import talib as ta \n",
    "from talib import RSI\n",
    "from talib import BBANDS\n",
    "import matplotlib.pyplot as plt\n",
    "from matplotlib import style\n",
    "import requests\n",
    "style.use('ggplot')\n",
    "plt.rcParams[\"figure.figsize\"] = (20,10)"
   ]
  },
  {
   "cell_type": "code",
   "execution_count": null,
   "metadata": {},
   "outputs": [],
   "source": [
    "import yfinance as yf"
   ]
  },
  {
   "cell_type": "code",
   "execution_count": null,
   "metadata": {},
   "outputs": [],
   "source": [
    "a1 = yf.Ticker(\"AAPl\")\n",
    "df1 = df1 = a1.history(period=\"3000d\" , interval = '1d')\n",
    "dfa = a1.history(start='2018-03-01', end='2021-02-25' , interval = '1d')\n",
    "\n",
    "df = dfa"
   ]
  },
  {
   "cell_type": "code",
   "execution_count": null,
   "metadata": {},
   "outputs": [],
   "source": [
    "data = df\n",
    "position=0\n",
    "position_index=0\n",
    "target= 30\n",
    "stoploss= 1\n",
    "realised_pnl=0\n",
    "number_of_trades=0\n",
    "pnl_l = 0\n",
    "pnl_h = 0\n",
    "pnl_l1 = []\n",
    "position_l = []\n",
    "position_2 = []\n",
    "tradebook = {}"
   ]
  },
  {
   "cell_type": "code",
   "execution_count": null,
   "metadata": {},
   "outputs": [],
   "source": [
    "df"
   ]
  },
  {
   "cell_type": "code",
   "execution_count": null,
   "metadata": {},
   "outputs": [],
   "source": [
    "def BollingerBands(df1, pv=0):\n",
    "    df1['upper_band'], df1['middle_band'], df1['lower_band'] = ta.BBANDS(df1['Close'], timeperiod =20)\n",
    "    if pv==1:\n",
    "        plt.plot(df1['Close'], color = 'black')\n",
    "        plt.plot(df1['upper_band'], color = 'green')\n",
    "        plt.plot(df1['lower_band'] , color = 'red')\n",
    "        plt.show()"
   ]
  },
  {
   "cell_type": "code",
   "execution_count": null,
   "metadata": {},
   "outputs": [],
   "source": [
    "def RSI(df1, pv=0):\n",
    "    df1['RSI'] = ta.RSI(df1['Close'], timeperiod=14)\n",
    "    if pv==1:\n",
    "        plt.plot(df1['RSI'], color = 'blue')\n",
    "        plt.show"
   ]
  },
  {
   "cell_type": "code",
   "execution_count": null,
   "metadata": {},
   "outputs": [],
   "source": [
    "def MACD(df1, pv=0):\n",
    "    df1['macd'], df1['macdsignal'], df1['macdhist'] = ta.MACD(df1['Close'], fastperiod=12, slowperiod=26, signalperiod=14)\n",
    "    if pv==1:\n",
    "        plt.plot(df1['macd'], color = 'purple')\n",
    "        plt.plot(df1['macdsignal'], color = 'pink')\n",
    "        plt.show"
   ]
  },
  {
   "cell_type": "code",
   "execution_count": null,
   "metadata": {},
   "outputs": [],
   "source": [
    "BollingerBands(data)\n",
    "RSI(data)\n",
    "MACD(data)\n"
   ]
  },
  {
   "cell_type": "code",
   "execution_count": null,
   "metadata": {},
   "outputs": [],
   "source": [
    "for i in range(1,(len(data)-1)):\n",
    "\n",
    "    if ((position == 0)):\n",
    "         if(((data['Close'][data.index[i]] < data['lower_band'][data.index[i]]) and \n",
    "            (data['Close'][data.index[i-1]] > data['lower_band'][data.index[i-1]]))):\n",
    "                position_time=data.index[i]\n",
    "                position_index=data.index[i]\n",
    "                entry_price = data.loc[data.index[i+1],'Open']\n",
    "                position = 1\n",
    "                print('long position at {}'.format(data.index[i]))\n",
    "                number_of_trades=number_of_trades+1\n",
    "                position_l.append(position_index)\n",
    "                continue\n",
    "\n",
    "    if (position_index!=0):\n",
    "         pnl = ((data.loc[data.index[i],'Close']- entry_price)/entry_price)*(position)*100  \n",
    "#        \n",
    "\n",
    "    if ((position != 0)):\n",
    "        if(#(pnl > target)\n",
    "           ((data['macd'][data.index[i]] < data['macdsignal'][data.index[i]]) and\n",
    "           (data['macd'][data.index[i-1]] > data['macdsignal'][data.index[i-1]])) \n",
    "          \n",
    "           or\n",
    "           (pnl < -stoploss)\n",
    "        ):\n",
    "            realised_pnl=realised_pnl+pnl\n",
    "            pnl_l1.append(pnl)\n",
    "            position=0\n",
    "            print('position exited at {}'.format(data.index[i]))\n",
    "            position_index=0\n",
    "            tradebook[number_of_trades] = {'entry_time' :position_time ,'entry_price': entry_price ,'long_short': position ,'exit_time' :data.index[i], 'pnl' :pnl}\n",
    "            print(pnl)\n",
    "            \n",
    "        \n",
    "\n",
    "print(realised_pnl)"
   ]
  },
  {
   "cell_type": "code",
   "execution_count": null,
   "metadata": {},
   "outputs": [],
   "source": [
    "tradebook_df = pd.DataFrame(tradebook).T\n",
    "tradebook_df['Profit'] = (tradebook_df['entry_price']*tradebook_df['pnl'])/100"
   ]
  },
  {
   "cell_type": "code",
   "execution_count": null,
   "metadata": {},
   "outputs": [],
   "source": [
    "tradebook_df"
   ]
  },
  {
   "cell_type": "code",
   "execution_count": null,
   "metadata": {},
   "outputs": [],
   "source": [
    "realised_pnl"
   ]
  },
  {
   "cell_type": "code",
   "execution_count": null,
   "metadata": {},
   "outputs": [],
   "source": [
    "plt.plot()\n",
    "plt.plot(np.cumsum(pnl_l1))"
   ]
  },
  {
   "cell_type": "code",
   "execution_count": null,
   "metadata": {},
   "outputs": [],
   "source": [
    "#Using the strategy in the jupyter notebook\n",
    "ticker = 'TATAMOTORS'\n",
    "print(ticker)\n",
    "ticker = ticker + '.NS'\n",
    "a1 = yf.Ticker(ticker)\n",
    "df = a1.history(period=\"60d\" , interval = '5m')\n",
    "\n",
    "high_1 = 1000\n",
    "low_1 = -1000\n",
    "data = df\n",
    "position=0\n",
    "position_index=0\n",
    "target= 30\n",
    "stoploss= 1\n",
    "realised_pnl=0\n",
    "number_of_trades=0\n",
    "pnl_l = 0\n",
    "pnl_h = 0\n",
    "pnl_l1 = []\n",
    "position_l = []\n",
    "tradebook = {}\n",
    "\n",
    "for i in range(len(data)):\n",
    "    if (data.index[i].time()  == dt.time(10,0)):\n",
    "        high_1 = df.Close.rolling(9).max()[df.index[i]]\n",
    "        low_1 = df.Close.rolling(9).min()[df.index[i]] \n",
    "\n",
    "    if ((position == 0)&( data.Close.loc[data.index[i]]> high_1 ) & (data.index[i].time() > dt.time(10,0))& (data.index[i].time() < dt.time(12,0))):\n",
    "            position_time=data.index[i].time()\n",
    "            position_index=data.index[i]\n",
    "            entry_price = data.loc[data.index[i+1],'Open']\n",
    "            position = 1\n",
    "            print('long position at {}'.format(data.index[i]))\n",
    "            number_of_trades=number_of_trades+1\n",
    "            position_l.append(position_index)\n",
    "            continue\n",
    "    if ((position == 0)&( data.Close.loc[data.index[i]]< low_1 ) & (data.index[i].time() > dt.time(10,0))& (data.index[i].time() < dt.time(12,0))):\n",
    "            position_time=data.index[i].time()\n",
    "            position_index=data.index[i]\n",
    "            entry_price = data.loc[data.index[i+1],'Open']\n",
    "            position = -1\n",
    "            print('short position at {}'.format(data.index[i]))\n",
    "            number_of_trades=number_of_trades+1\n",
    "            position_l.append(position_index)\n",
    "            continue\n",
    "\n",
    "\n",
    "    if (position_index!=0):\n",
    "\n",
    "        pnl = ((data.loc[data.index[i],'Close']- entry_price)/entry_price)*(position)*100  \n",
    "#         print('PNL is {}'.format(pnl))\n",
    "\n",
    "\n",
    "    if ((position != 0) and ((pnl  >target) or (pnl < -stoploss))):\n",
    "        realised_pnl=realised_pnl+pnl\n",
    "        pnl_l1.append(pnl)\n",
    "        position=0\n",
    "        print('position exited at {}'.format(data.index[i].time()))\n",
    "        position_index=0\n",
    "        tradebook[number_of_trades] = {'entry_time' :position_time ,'entry_price': entry_price ,'long_short': position ,'exit_time' :data.index[i], 'pnl' :pnl}\n",
    "        print(pnl)\n",
    "    if ((position != 0) and (data.index[i].time() > dt.time(15,0))):\n",
    "        realised_pnl=realised_pnl+pnl\n",
    "        pnl_l1.append(pnl)\n",
    "        tradebook[number_of_trades] = {'entry_time' :position_time ,'entry_price': entry_price ,'long_short': position ,'exit_time' :data.index[i], 'pnl' :pnl}\n",
    "        position=0\n",
    "        print('position covered at {}'.format(data.index[i].time()))\n",
    "        position_index=0\n",
    "        print(pnl)\n",
    "        pnl = 0\n",
    "print(realised_pnl)"
   ]
  },
  {
   "cell_type": "code",
   "execution_count": null,
   "metadata": {},
   "outputs": [],
   "source": [
    "tradebook_df = pd.DataFrame(tradebook).T\n",
    "tradebook_df['Profit'] = (tradebook_df['entry_price']*tradebook_df['pnl'])/100"
   ]
  },
  {
   "cell_type": "code",
   "execution_count": null,
   "metadata": {},
   "outputs": [],
   "source": [
    "tradebook_df"
   ]
  },
  {
   "cell_type": "code",
   "execution_count": null,
   "metadata": {},
   "outputs": [],
   "source": [
    "realised_pnl"
   ]
  },
  {
   "cell_type": "code",
   "execution_count": null,
   "metadata": {},
   "outputs": [],
   "source": [
    "plt.plot()\n",
    "plt.plot(np.cumsum(pnl_l1))"
   ]
  }
 ],
 "metadata": {
  "kernelspec": {
   "display_name": "Python 3",
   "language": "python",
   "name": "python3"
  },
  "language_info": {
   "codemirror_mode": {
    "name": "ipython",
    "version": 3
   },
   "file_extension": ".py",
   "mimetype": "text/x-python",
   "name": "python",
   "nbconvert_exporter": "python",
   "pygments_lexer": "ipython3",
   "version": "3.8.5"
  }
 },
 "nbformat": 4,
 "nbformat_minor": 4
}
